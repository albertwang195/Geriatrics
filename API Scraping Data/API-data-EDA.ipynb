{
 "cells": [
  {
   "cell_type": "code",
   "execution_count": 4,
   "metadata": {},
   "outputs": [],
   "source": [
    "# import data science libraries\n",
    "import pandas as pd\n",
    "import numpy as np\n",
    "import matplotlib.pyplot as plt\n",
    "import seaborn as sns\n",
    "import statsmodels.api as sm\n",
    "import statsmodels.formula.api as smf\n",
    "\n",
    "# import data\n",
    "df = pd.read_csv('pop2000_2023.csv')\n"
   ]
  },
  {
   "cell_type": "code",
   "execution_count": 5,
   "metadata": {},
   "outputs": [
    {
     "data": {
      "text/html": [
       "<div>\n",
       "<style scoped>\n",
       "    .dataframe tbody tr th:only-of-type {\n",
       "        vertical-align: middle;\n",
       "    }\n",
       "\n",
       "    .dataframe tbody tr th {\n",
       "        vertical-align: top;\n",
       "    }\n",
       "\n",
       "    .dataframe thead th {\n",
       "        text-align: right;\n",
       "    }\n",
       "</style>\n",
       "<table border=\"1\" class=\"dataframe\">\n",
       "  <thead>\n",
       "    <tr style=\"text-align: right;\">\n",
       "      <th></th>\n",
       "      <th>popularity</th>\n",
       "      <th>year</th>\n",
       "      <th>genre</th>\n",
       "      <th>danceability</th>\n",
       "      <th>energy</th>\n",
       "      <th>key</th>\n",
       "      <th>loudness</th>\n",
       "      <th>mode</th>\n",
       "      <th>speechiness</th>\n",
       "      <th>acousticness</th>\n",
       "      <th>instrumentalness</th>\n",
       "      <th>liveness</th>\n",
       "      <th>valence</th>\n",
       "      <th>tempo</th>\n",
       "      <th>id</th>\n",
       "      <th>duration_ms</th>\n",
       "      <th>time_signature</th>\n",
       "    </tr>\n",
       "  </thead>\n",
       "  <tbody>\n",
       "    <tr>\n",
       "      <th>0</th>\n",
       "      <td>100</td>\n",
       "      <td>2000</td>\n",
       "      <td>pop</td>\n",
       "      <td>0.707</td>\n",
       "      <td>0.681</td>\n",
       "      <td>0</td>\n",
       "      <td>-4.325</td>\n",
       "      <td>1</td>\n",
       "      <td>0.0668</td>\n",
       "      <td>0.0632</td>\n",
       "      <td>0.000005</td>\n",
       "      <td>0.0322</td>\n",
       "      <td>0.646</td>\n",
       "      <td>117.999</td>\n",
       "      <td>0yLdNVWF3Srea0uzk55zFn</td>\n",
       "      <td>200455</td>\n",
       "      <td>4</td>\n",
       "    </tr>\n",
       "    <tr>\n",
       "      <th>1</th>\n",
       "      <td>92</td>\n",
       "      <td>2000</td>\n",
       "      <td>pop</td>\n",
       "      <td>0.644</td>\n",
       "      <td>0.728</td>\n",
       "      <td>8</td>\n",
       "      <td>-5.750</td>\n",
       "      <td>1</td>\n",
       "      <td>0.0351</td>\n",
       "      <td>0.0543</td>\n",
       "      <td>0.169000</td>\n",
       "      <td>0.1610</td>\n",
       "      <td>0.430</td>\n",
       "      <td>88.993</td>\n",
       "      <td>3OHfY25tqY28d16oZczHc8</td>\n",
       "      <td>153947</td>\n",
       "      <td>4</td>\n",
       "    </tr>\n",
       "    <tr>\n",
       "      <th>2</th>\n",
       "      <td>92</td>\n",
       "      <td>2000</td>\n",
       "      <td>pop</td>\n",
       "      <td>0.644</td>\n",
       "      <td>0.735</td>\n",
       "      <td>8</td>\n",
       "      <td>-5.747</td>\n",
       "      <td>1</td>\n",
       "      <td>0.0391</td>\n",
       "      <td>0.0521</td>\n",
       "      <td>0.144000</td>\n",
       "      <td>0.1610</td>\n",
       "      <td>0.418</td>\n",
       "      <td>88.980</td>\n",
       "      <td>1Qrg8KqiBpW07V7PNxwwwL</td>\n",
       "      <td>153947</td>\n",
       "      <td>4</td>\n",
       "    </tr>\n",
       "    <tr>\n",
       "      <th>3</th>\n",
       "      <td>90</td>\n",
       "      <td>2000</td>\n",
       "      <td>pop</td>\n",
       "      <td>0.684</td>\n",
       "      <td>0.607</td>\n",
       "      <td>11</td>\n",
       "      <td>-8.127</td>\n",
       "      <td>0</td>\n",
       "      <td>0.1000</td>\n",
       "      <td>0.0267</td>\n",
       "      <td>0.000307</td>\n",
       "      <td>0.1910</td>\n",
       "      <td>0.498</td>\n",
       "      <td>81.001</td>\n",
       "      <td>0JXXNGljqupsJaZsgSbMZV</td>\n",
       "      <td>195373</td>\n",
       "      <td>4</td>\n",
       "    </tr>\n",
       "    <tr>\n",
       "      <th>4</th>\n",
       "      <td>89</td>\n",
       "      <td>2000</td>\n",
       "      <td>pop</td>\n",
       "      <td>0.561</td>\n",
       "      <td>0.520</td>\n",
       "      <td>11</td>\n",
       "      <td>-9.342</td>\n",
       "      <td>0</td>\n",
       "      <td>0.2440</td>\n",
       "      <td>0.0503</td>\n",
       "      <td>0.000002</td>\n",
       "      <td>0.3550</td>\n",
       "      <td>0.424</td>\n",
       "      <td>153.150</td>\n",
       "      <td>1bDbXMyjaUIooNwFE9wn0N</td>\n",
       "      <td>239360</td>\n",
       "      <td>3</td>\n",
       "    </tr>\n",
       "  </tbody>\n",
       "</table>\n",
       "</div>"
      ],
      "text/plain": [
       "   popularity  year genre  danceability  energy  key  loudness  mode  \\\n",
       "0         100  2000   pop         0.707   0.681    0    -4.325     1   \n",
       "1          92  2000   pop         0.644   0.728    8    -5.750     1   \n",
       "2          92  2000   pop         0.644   0.735    8    -5.747     1   \n",
       "3          90  2000   pop         0.684   0.607   11    -8.127     0   \n",
       "4          89  2000   pop         0.561   0.520   11    -9.342     0   \n",
       "\n",
       "   speechiness  acousticness  instrumentalness  liveness  valence    tempo  \\\n",
       "0       0.0668        0.0632          0.000005    0.0322    0.646  117.999   \n",
       "1       0.0351        0.0543          0.169000    0.1610    0.430   88.993   \n",
       "2       0.0391        0.0521          0.144000    0.1610    0.418   88.980   \n",
       "3       0.1000        0.0267          0.000307    0.1910    0.498   81.001   \n",
       "4       0.2440        0.0503          0.000002    0.3550    0.424  153.150   \n",
       "\n",
       "                       id  duration_ms  time_signature  \n",
       "0  0yLdNVWF3Srea0uzk55zFn       200455               4  \n",
       "1  3OHfY25tqY28d16oZczHc8       153947               4  \n",
       "2  1Qrg8KqiBpW07V7PNxwwwL       153947               4  \n",
       "3  0JXXNGljqupsJaZsgSbMZV       195373               4  \n",
       "4  1bDbXMyjaUIooNwFE9wn0N       239360               3  "
      ]
     },
     "execution_count": 5,
     "metadata": {},
     "output_type": "execute_result"
    }
   ],
   "source": [
    "# drop the type, uri, track_href, and analysis_url columns\n",
    "df = df.drop(['type', 'uri', 'track_href', 'analysis_url'], axis=1)\n",
    "df.head()"
   ]
  },
  {
   "cell_type": "code",
   "execution_count": 15,
   "metadata": {},
   "outputs": [
    {
     "name": "stdout",
     "output_type": "stream",
     "text": [
      "           predictor         VIF\n",
      "0              const  151.343842\n",
      "1       danceability    1.474673\n",
      "2             energy    3.418391\n",
      "3                key    1.014327\n",
      "4           loudness    2.362397\n",
      "5               mode    1.027171\n",
      "6        speechiness    1.030709\n",
      "7       acousticness    1.874174\n",
      "8   instrumentalness    1.083298\n",
      "9           liveness    1.062475\n",
      "10           valence    1.769846\n",
      "11             tempo    1.058803\n"
     ]
    }
   ],
   "source": [
    "# Examining multicollinearity\n",
    "# create a correlation matrix\n",
    "pop = df[df['genre'] == 'pop']\n",
    "# sns.scatterplot(data=pop, x='loudness', y='popularity')\n",
    "\n",
    "X = pop[['danceability','energy','key','loudness', 'mode', 'speechiness', 'acousticness', 'instrumentalness', 'liveness', 'valence', 'tempo']]\n",
    "from statsmodels.stats.outliers_influence import variance_inflation_factor\n",
    "from statsmodels.tools.tools import add_constant\n",
    "\n",
    "\n",
    "X = add_constant(X)\n",
    "vif_data = pd.DataFrame()\n",
    "vif_data[\"predictor\"] = X.columns\n",
    "vif_data[\"VIF\"] = [variance_inflation_factor(X.values, i) for i in range(len(X.columns))]\n",
    "\n",
    "print(vif_data)"
   ]
  },
  {
   "cell_type": "code",
   "execution_count": 10,
   "metadata": {},
   "outputs": [
    {
     "data": {
      "text/plain": [
       "(72, 17)"
      ]
     },
     "execution_count": 10,
     "metadata": {},
     "output_type": "execute_result"
    },
    {
     "data": {
      "image/png": "[encoded data removed]",
      "text/plain": [
       "<Figure size 640x480 with 1 Axes>"
      ]
     },
     "metadata": {},
     "output_type": "display_data"
    }
   ],
   "source": [
    "sns.scatterplot(data=df, x='danceability', y='popularity')\n",
    "unpopular = df[df['popularity'] < 50]\n",
    "unpopular.shape"
   ]
  },
  {
   "cell_type": "code",
   "execution_count": null,
   "metadata": {},
   "outputs": [],
   "source": []
  }
 ],
 "metadata": {
  "kernelspec": {
   "display_name": "base",
   "language": "python",
   "name": "python3"
  },
  "language_info": {
   "codemirror_mode": {
    "name": "ipython",
    "version": 3
   },
   "file_extension": ".py",
   "mimetype": "text/x-python",
   "name": "python",
   "nbconvert_exporter": "python",
   "pygments_lexer": "ipython3",
   "version": "3.9.12"
  },
  "orig_nbformat": 4,
  "vscode": {
   "interpreter": {
    "hash": "877da0e4ac07c7eb13180aaa7eea63e34d73e5d329b6bbb28084474ff998cf49"
   }
  }
 },
 "nbformat": 4,
 "nbformat_minor": 2
}
